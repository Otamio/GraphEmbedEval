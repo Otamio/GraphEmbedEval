{
 "cells": [
  {
   "cell_type": "code",
   "execution_count": 1,
   "id": "polyphonic-darkness",
   "metadata": {},
   "outputs": [],
   "source": [
    "import numpy as np\n",
    "import faiss\n",
    "import json"
   ]
  },
  {
   "cell_type": "code",
   "execution_count": 2,
   "id": "veterinary-sheffield",
   "metadata": {},
   "outputs": [],
   "source": [
    "# Specify the parameters\n",
    "dim = 100\n",
    "max_rows = None\n",
    "embedding_file = 'wikidataos.complEx.graph-embeddings.txt'\n",
    "qnode_to_index_file = 'qnodes_to_id.json'\n",
    "output_index = 'wikidata_index.idx'"
   ]
  },
  {
   "cell_type": "markdown",
   "id": "southeast-resident",
   "metadata": {},
   "source": [
    "### Build the qnode to index dictionary"
   ]
  },
  {
   "cell_type": "code",
   "execution_count": null,
   "id": "adjusted-toilet",
   "metadata": {},
   "outputs": [],
   "source": [
    "qnode_to_index = {qnode: i for i, qnode in enumerate(np.loadtxt(embedding_file, skiprows=1, max_rows=max_rows, \\\n",
    "                                                                usecols=range(1), dtype='str'))}"
   ]
  },
  {
   "cell_type": "code",
   "execution_count": null,
   "id": "minute-delivery",
   "metadata": {},
   "outputs": [],
   "source": [
    "with open(qnode_to_index_file, 'w') as fd:\n",
    "    json.dump(qnode_to_index, fd)"
   ]
  },
  {
   "cell_type": "markdown",
   "id": "parallel-clone",
   "metadata": {},
   "source": [
    "### Build the FAISS index"
   ]
  },
  {
   "cell_type": "code",
   "execution_count": null,
   "id": "helpful-realtor",
   "metadata": {},
   "outputs": [],
   "source": [
    "%time xb = np.loadtxt(embedding_file, skiprows=1, max_rows=max_rows, delimiter=' ', \\\n",
    "                      usecols=range(1,dim+1)).astype(np.float32)"
   ]
  },
  {
   "cell_type": "code",
   "execution_count": null,
   "id": "cardiovascular-bankruptcy",
   "metadata": {},
   "outputs": [],
   "source": [
    "# Use METRIC_L2 in case you don't want projections\n",
    "index = faiss.index_factory(dim, 'IVF65536_HNSW32,Flat', faiss.METRIC_L2)"
   ]
  },
  {
   "cell_type": "code",
   "execution_count": null,
   "id": "prerequisite-metadata",
   "metadata": {},
   "outputs": [],
   "source": [
    "index.set_direct_map_type(faiss.DirectMap.Array)"
   ]
  },
  {
   "cell_type": "code",
   "execution_count": null,
   "id": "through-tender",
   "metadata": {},
   "outputs": [],
   "source": [
    "index.is_trained"
   ]
  },
  {
   "cell_type": "code",
   "execution_count": null,
   "id": "defensive-observer",
   "metadata": {},
   "outputs": [],
   "source": [
    "%time index.train(xb)"
   ]
  },
  {
   "cell_type": "code",
   "execution_count": null,
   "id": "congressional-manitoba",
   "metadata": {},
   "outputs": [],
   "source": [
    "index.is_trained"
   ]
  },
  {
   "cell_type": "code",
   "execution_count": null,
   "id": "virgin-coral",
   "metadata": {},
   "outputs": [],
   "source": [
    "%time index.add(xb)"
   ]
  },
  {
   "cell_type": "code",
   "execution_count": null,
   "id": "polished-oracle",
   "metadata": {},
   "outputs": [],
   "source": [
    "%time faiss.write_index(index, output_index)"
   ]
  },
  {
   "cell_type": "code",
   "execution_count": null,
   "id": "funky-example",
   "metadata": {},
   "outputs": [],
   "source": []
  }
 ],
 "metadata": {
  "kernelspec": {
   "display_name": "faiss",
   "language": "python",
   "name": "faiss"
  },
  "language_info": {
   "codemirror_mode": {
    "name": "ipython",
    "version": 3
   },
   "file_extension": ".py",
   "mimetype": "text/x-python",
   "name": "python",
   "nbconvert_exporter": "python",
   "pygments_lexer": "ipython3",
   "version": "3.7.10"
  }
 },
 "nbformat": 4,
 "nbformat_minor": 5
}
