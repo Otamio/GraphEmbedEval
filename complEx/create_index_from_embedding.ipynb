{
 "cells": [
  {
   "cell_type": "code",
   "execution_count": null,
   "id": "polyphonic-darkness",
   "metadata": {},
   "outputs": [],
   "source": [
    "import numpy as np\n",
    "import faiss"
   ]
  },
  {
   "cell_type": "code",
   "execution_count": null,
   "id": "veterinary-sheffield",
   "metadata": {},
   "outputs": [],
   "source": [
    "dim = 100\n",
    "embedding_file = 'wikidataos.complEx.graph-embeddings.txt'\n",
    "output_file = 'wikidata_index.idx'"
   ]
  },
  {
   "cell_type": "code",
   "execution_count": null,
   "id": "helpful-realtor",
   "metadata": {},
   "outputs": [],
   "source": [
    "%time xb = np.loadtxt(embedding_file, skiprows=1, delimiter=' ', usecols=range(1,dim+1)).astype(np.float32)"
   ]
  },
  {
   "cell_type": "code",
   "execution_count": null,
   "id": "cardiovascular-bankruptcy",
   "metadata": {},
   "outputs": [],
   "source": [
    "index = faiss.index_factory(dim, 'IVF65536_HNSW32,Flat', faiss.METRIC_INNER_PRODUCT)"
   ]
  },
  {
   "cell_type": "code",
   "execution_count": null,
   "id": "through-tender",
   "metadata": {},
   "outputs": [],
   "source": [
    "index.is_trained"
   ]
  },
  {
   "cell_type": "code",
   "execution_count": null,
   "id": "defensive-observer",
   "metadata": {},
   "outputs": [],
   "source": [
    "%time index.train(xb)"
   ]
  },
  {
   "cell_type": "code",
   "execution_count": null,
   "id": "congressional-manitoba",
   "metadata": {},
   "outputs": [],
   "source": [
    "index.is_trained"
   ]
  },
  {
   "cell_type": "code",
   "execution_count": null,
   "id": "virgin-coral",
   "metadata": {},
   "outputs": [],
   "source": [
    "%time index.add(xb)"
   ]
  },
  {
   "cell_type": "code",
   "execution_count": null,
   "id": "polished-oracle",
   "metadata": {},
   "outputs": [],
   "source": [
    "%time faiss.write_index(index, output_file)"
   ]
  },
  {
   "cell_type": "code",
   "execution_count": null,
   "id": "unknown-annex",
   "metadata": {},
   "outputs": [],
   "source": []
  }
 ],
 "metadata": {
  "kernelspec": {
   "display_name": "faiss",
   "language": "python",
   "name": "faiss"
  },
  "language_info": {
   "codemirror_mode": {
    "name": "ipython",
    "version": 3
   },
   "file_extension": ".py",
   "mimetype": "text/x-python",
   "name": "python",
   "nbconvert_exporter": "python",
   "pygments_lexer": "ipython3",
   "version": "3.7.10"
  }
 },
 "nbformat": 4,
 "nbformat_minor": 5
}
