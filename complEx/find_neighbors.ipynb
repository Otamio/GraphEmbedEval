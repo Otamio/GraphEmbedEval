{
 "cells": [
  {
   "cell_type": "code",
   "execution_count": 1,
   "id": "changing-creation",
   "metadata": {},
   "outputs": [],
   "source": [
    "import faiss\n",
    "import json"
   ]
  },
  {
   "cell_type": "markdown",
   "id": "light-emerald",
   "metadata": {},
   "source": [
    "### This example only loads a small portion of the embeddings"
   ]
  },
  {
   "cell_type": "code",
   "execution_count": 2,
   "id": "extreme-circumstances",
   "metadata": {},
   "outputs": [],
   "source": [
    "qnode_to_index_file = 'qnodes_to_id.json'\n",
    "output_index = 'wikidata_index.idx'"
   ]
  },
  {
   "cell_type": "code",
   "execution_count": 3,
   "id": "indirect-chuck",
   "metadata": {},
   "outputs": [],
   "source": [
    "class FAISS_Index(object):\n",
    "    \n",
    "    def __init__(self, qnode_to_index_file, output_index, k, efSearch=400, nprobe=4):\n",
    "        \n",
    "        self._index = faiss.read_index(output_index)\n",
    "        try:\n",
    "            # Set the parameters\n",
    "            faiss.downcast_index(self._index.quantizer).hnsw.efSearch = efSearch\n",
    "            self._index.nprobe = nprobe\n",
    "        except:\n",
    "            print('Cannot set parameters for this index')\n",
    "        \n",
    "        # Load the entity to index map\n",
    "        with open(qnode_to_index_file) as fd:\n",
    "            self._qnode_to_index = json.load(fd)\n",
    "        self._index_to_qnode = {v: k for k, v in self._qnode_to_index.items()}\n",
    "        \n",
    "        self._k = k\n",
    "        \n",
    "    def get_neighbors(self, qnode, get_scores=False):\n",
    "        ''' Find the neighbors for the given qnode '''\n",
    "        scores, candidates = self._index.search(self._index.reconstruct( \\\n",
    "                                                        self._qnode_to_index[qnode]).reshape(1, -1), \\\n",
    "                                                self._k)\n",
    "        candidates = [self._index_to_qnode[x] for x in candidates[0] if x != -1]\n",
    "        scores = scores[0][:len(candidates)]\n",
    "\n",
    "        if get_scores:\n",
    "            return [ (c, s) for c, s in zip(candidates, scores) ]\n",
    "        return candidates\n",
    "    \n",
    "    @property\n",
    "    def k(self):\n",
    "        return self._k\n",
    "    \n",
    "    @property\n",
    "    def index(self):\n",
    "        return self._index"
   ]
  },
  {
   "cell_type": "code",
   "execution_count": 4,
   "id": "greatest-omega",
   "metadata": {
    "scrolled": true
   },
   "outputs": [],
   "source": [
    "index = FAISS_Index(qnode_to_index_file, output_index, 5)"
   ]
  },
  {
   "cell_type": "markdown",
   "id": "offensive-distributor",
   "metadata": {},
   "source": [
    "### Search"
   ]
  },
  {
   "cell_type": "code",
   "execution_count": 5,
   "id": "alive-douglas",
   "metadata": {},
   "outputs": [],
   "source": [
    "query_qnode = 'Q7319603'"
   ]
  },
  {
   "cell_type": "code",
   "execution_count": 6,
   "id": "undefined-colony",
   "metadata": {},
   "outputs": [
    {
     "name": "stdout",
     "output_type": "stream",
     "text": [
      "CPU times: user 844 ms, sys: 35.6 ms, total: 879 ms\n",
      "Wall time: 26.2 ms\n"
     ]
    },
    {
     "data": {
      "text/plain": [
       "['Q7319603', 'Q11302945', 'Q7381229', 'Q5224589', 'Q5339902']"
      ]
     },
     "execution_count": 6,
     "metadata": {},
     "output_type": "execute_result"
    }
   ],
   "source": [
    "%time index.get_neighbors(query_qnode)"
   ]
  },
  {
   "cell_type": "code",
   "execution_count": 7,
   "id": "opponent-scanning",
   "metadata": {},
   "outputs": [
    {
     "name": "stdout",
     "output_type": "stream",
     "text": [
      "CPU times: user 687 ms, sys: 31.2 ms, total: 718 ms\n",
      "Wall time: 19.8 ms\n"
     ]
    },
    {
     "data": {
      "text/plain": [
       "[('Q7319603', 0.0),\n",
       " ('Q11302945', 1.6781642),\n",
       " ('Q7381229', 1.7304077),\n",
       " ('Q5224589', 1.9623686),\n",
       " ('Q5339902', 2.3353627)]"
      ]
     },
     "execution_count": 7,
     "metadata": {},
     "output_type": "execute_result"
    }
   ],
   "source": [
    "%time index.get_neighbors(query_qnode, get_scores=True)"
   ]
  },
  {
   "cell_type": "markdown",
   "id": "limited-cooperative",
   "metadata": {},
   "source": [
    "### Without using the class"
   ]
  },
  {
   "cell_type": "code",
   "execution_count": 8,
   "id": "medical-maintenance",
   "metadata": {},
   "outputs": [],
   "source": [
    "index = faiss.read_index(output_index)\n",
    "try:\n",
    "    # Set the parameters\n",
    "    faiss.downcast_index(index.quantizer).hnsw.efSearch = 400\n",
    "    index.nprobe = 4\n",
    "except:\n",
    "    print('Cannot set parameters for this index')\n",
    "\n",
    "# Load the entity to index map\n",
    "with open(qnode_to_index_file) as fd:\n",
    "    qnode_to_index = json.load(fd)\n",
    "index_to_qnode = {v: k for k, v in qnode_to_index.items()}"
   ]
  },
  {
   "cell_type": "code",
   "execution_count": 9,
   "id": "attached-niagara",
   "metadata": {},
   "outputs": [],
   "source": [
    "def get_neighbors(qnode, get_scores=False, k=5):\n",
    "    ''' Find the neighbors for the given qnode '''\n",
    "    scores, candidates = index.search(index.reconstruct( \\\n",
    "                                            qnode_to_index[qnode]).reshape(1, -1), \\\n",
    "                                      k)\n",
    "    candidates = [index_to_qnode[x] for x in candidates[0] if x != -1]\n",
    "    scores = scores[0][:len(candidates)]\n",
    "\n",
    "    if get_scores:\n",
    "        return [ (c, s) for c, s in zip(candidates, scores) ]\n",
    "    return candidates"
   ]
  },
  {
   "cell_type": "code",
   "execution_count": 10,
   "id": "afraid-archive",
   "metadata": {},
   "outputs": [
    {
     "name": "stdout",
     "output_type": "stream",
     "text": [
      "CPU times: user 620 ms, sys: 38.7 ms, total: 659 ms\n",
      "Wall time: 18.9 ms\n"
     ]
    },
    {
     "data": {
      "text/plain": [
       "['Q7319603', 'Q11302945', 'Q7381229', 'Q5224589', 'Q5339902']"
      ]
     },
     "execution_count": 10,
     "metadata": {},
     "output_type": "execute_result"
    }
   ],
   "source": [
    "%time get_neighbors(query_qnode)"
   ]
  },
  {
   "cell_type": "code",
   "execution_count": 11,
   "id": "secure-personality",
   "metadata": {},
   "outputs": [
    {
     "name": "stdout",
     "output_type": "stream",
     "text": [
      "CPU times: user 703 ms, sys: 3.8 ms, total: 707 ms\n",
      "Wall time: 19.8 ms\n"
     ]
    },
    {
     "data": {
      "text/plain": [
       "[('Q7319603', 0.0),\n",
       " ('Q11302945', 1.6781642),\n",
       " ('Q7381229', 1.7304077),\n",
       " ('Q5224589', 1.9623686),\n",
       " ('Q5339902', 2.3353627)]"
      ]
     },
     "execution_count": 11,
     "metadata": {},
     "output_type": "execute_result"
    }
   ],
   "source": [
    "%time get_neighbors(query_qnode, get_scores=True)"
   ]
  },
  {
   "cell_type": "markdown",
   "id": "transparent-salon",
   "metadata": {},
   "source": []
  },
  {
   "cell_type": "code",
   "execution_count": null,
   "id": "welcome-navigation",
   "metadata": {},
   "outputs": [],
   "source": []
  }
 ],
 "metadata": {
  "kernelspec": {
   "display_name": "faiss",
   "language": "python",
   "name": "faiss"
  },
  "language_info": {
   "codemirror_mode": {
    "name": "ipython",
    "version": 3
   },
   "file_extension": ".py",
   "mimetype": "text/x-python",
   "name": "python",
   "nbconvert_exporter": "python",
   "pygments_lexer": "ipython3",
   "version": "3.7.10"
  }
 },
 "nbformat": 4,
 "nbformat_minor": 5
}
